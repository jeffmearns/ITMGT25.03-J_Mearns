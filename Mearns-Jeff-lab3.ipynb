{
 "cells": [
  {
   "cell_type": "markdown",
   "metadata": {},
   "source": [
    "193314  \n",
    "Mearns  \n",
    "2 BS ME"
   ]
  },
  {
   "cell_type": "code",
   "execution_count": 4,
   "metadata": {},
   "outputs": [
    {
     "data": {
      "text/plain": [
       "'followed by'"
      ]
     },
     "execution_count": 4,
     "metadata": {},
     "output_type": "execute_result"
    }
   ],
   "source": [
    "social_graph = {\n",
    "    \"@bongolpoc\":{\"first_name\":\"Joselito\",\n",
    "                  \"last_name\":\"Olpoc\",\n",
    "                  \"following\":[\n",
    "                  ]\n",
    "    },\n",
    "    \"@joaquin\":  {\"first_name\":\"Joaquin\",\n",
    "                  \"last_name\":\"Gonzales\",\n",
    "                  \"following\":[\n",
    "                      \"@chums\",\"@jobenilagan\"\n",
    "                  ]\n",
    "    },\n",
    "    \"@chums\" : {\"first_name\":\"Matthew\",\n",
    "                \"last_name\":\"Uy\",\n",
    "                \"following\":[\n",
    "                    \"@bongolpoc\",\"@miketan\",\"@rudyang\",\"@joeilagan\"\n",
    "                ]\n",
    "    },\n",
    "    \"@jobenilagan\":{\"first_name\":\"Joben\",\n",
    "                   \"last_name\":\"Ilagan\",\n",
    "                   \"following\":[\n",
    "                    \"@eeebeee\",\"@joeilagan\",\"@chums\",\"@joaquin\"\n",
    "                   ]\n",
    "    },\n",
    "    \"@joeilagan\":{\"first_name\":\"Joe\",\n",
    "                  \"last_name\":\"Ilagan\",\n",
    "                  \"following\":[\n",
    "                    \"@eeebeee\",\"@jobenilagan\",\"@chums\"\n",
    "                  ]\n",
    "    },\n",
    "    \"@eeebeee\":  {\"first_name\":\"Elizabeth\",\n",
    "                  \"last_name\":\"Ilagan\",\n",
    "                  \"following\":[\n",
    "                    \"@jobenilagan\",\"@joeilagan\"\n",
    "                  ]\n",
    "    },\n",
    "}\n",
    "def relationship_status(from_member,to_member):\n",
    "    if (from_member in social_graph[to_member][\"following\"]) and (to_member in social_graph[from_member][\"following\"]):\n",
    "        return \"friends\"\n",
    "    elif to_member in social_graph[from_member][\"following\"]:\n",
    "        return \"follower\"\n",
    "    elif from_member in social_graph[to_member][\"following\"]:\n",
    "        return \"followed by\"\n",
    "    else:\n",
    "        return None\n",
    "    \n",
    "relationship_status(\"@chums\", \"@jobenilagan\")"
   ]
  },
  {
   "cell_type": "code",
   "execution_count": 14,
   "metadata": {},
   "outputs": [
    {
     "name": "stdout",
     "output_type": "stream",
     "text": [
      "X\n",
      "X\n",
      "O\n",
      "X\n",
      "O\n",
      "None\n"
     ]
    }
   ],
   "source": [
    "board1 = [\n",
    "['X','X','O'],\n",
    "['O','X','O'],\n",
    "['O','','X'],\n",
    "]\n",
    "\n",
    "board2 = [\n",
    "['X','X','O'],\n",
    "['O','X','O'],\n",
    "['','O','X'],\n",
    "]\n",
    "\n",
    "board3 = [\n",
    "['O','X','O'],\n",
    "['','O','X'],\n",
    "['X','X','O'],\n",
    "]\n",
    "\n",
    "board4 = [\n",
    "['X','X','X'],\n",
    "['O','X','O'],\n",
    "['O','','O'],\n",
    "]\n",
    "\n",
    "board5 = [\n",
    "['X','X','O'],\n",
    "['O','X','O'],\n",
    "['X','','O'],\n",
    "]\n",
    "\n",
    "board6 = [\n",
    "['X','X','O'],\n",
    "['O','X','O'],\n",
    "['X','',''],\n",
    "]\n",
    "\n",
    "def get_winner(board):\n",
    "    horizontal = [a for a in board]\n",
    "    vertical = [a for a in zip(*board)]\n",
    "    diagonal_updown = [board[i][i] for i,v in enumerate(board)]\n",
    "    diagonal_downup = [board[2-i][i] for i,v in enumerate(board)]\n",
    "    x_h = [\"X\", \"X\", \"X\"]\n",
    "    o_h = [\"O\", \"O\", \"O\"]\n",
    "    x_v = (\"X\", \"X\", \"X\")\n",
    "    o_v = (\"O\", \"O\", \"O\")\n",
    "    if (x_h in horizontal) or (x_v in vertical) or (diagonal_updown == x_h) or (diagonal_downup == x_h):\n",
    "        print(\"X\")\n",
    "    elif (o_h in horizontal) or (o_v in vertical) or (diagonal_updown == o_h) or (diagonal_downup == o_h):\n",
    "        print(\"O\")\n",
    "    else:\n",
    "        print(\"None\")\n",
    "get_winner(board1)\n",
    "get_winner(board2)\n",
    "get_winner(board3)\n",
    "get_winner(board4)\n",
    "get_winner(board5)\n",
    "get_winner(board6)"
   ]
  },
  {
   "cell_type": "code",
   "execution_count": 1,
   "metadata": {},
   "outputs": [
    {
     "name": "stdout",
     "output_type": "stream",
     "text": [
      "Enter source: admu\n",
      "Enter destination: upd\n",
      "ETA: 90\n"
     ]
    }
   ],
   "source": [
    "legs = {\n",
    "     (\"upd\",\"admu\"):{\n",
    "         \"travel_time_mins\":10\n",
    "     },\n",
    "     (\"admu\",\"dlsu\"):{\n",
    "         \"travel_time_mins\":35\n",
    "     },\n",
    "     (\"dlsu\",\"upd\"):{\n",
    "         \"travel_time_mins\":55\n",
    "     }\n",
    "}\n",
    "\n",
    "def eta(source, destination):\n",
    "    path = {\"upd\":\"admu\", \"admu\":\"dlsu\", \"dlsu\":\"upd\"}\n",
    "    eta = 0 \n",
    "    while path[source] != path[destination]:\n",
    "        eta += legs[(source, path[source])][\"travel_time_mins\"]\n",
    "        source = path[source]\n",
    "    print(\"ETA:\", eta)\n",
    "\n",
    "source = input(\"Enter source: \")\n",
    "destination = input(\"Enter destination: \")\n",
    "eta(source, destination)"
   ]
  }
 ],
 "metadata": {
  "kernelspec": {
   "display_name": "Python 3",
   "language": "python",
   "name": "python3"
  },
  "language_info": {
   "codemirror_mode": {
    "name": "ipython",
    "version": 3
   },
   "file_extension": ".py",
   "mimetype": "text/x-python",
   "name": "python",
   "nbconvert_exporter": "python",
   "pygments_lexer": "ipython3",
   "version": "3.7.6"
  }
 },
 "nbformat": 4,
 "nbformat_minor": 4
}
