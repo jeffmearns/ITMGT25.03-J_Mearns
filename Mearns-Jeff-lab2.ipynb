{
 "cells": [
  {
   "cell_type": "markdown",
   "metadata": {},
   "source": [
    "193314  \n",
    "Mearns  \n",
    "2 BS ME"
   ]
  },
  {
   "cell_type": "code",
   "execution_count": 4,
   "metadata": {},
   "outputs": [
    {
     "name": "stdout",
     "output_type": "stream",
     "text": [
      "Enter the height of the rectangle: 5\n",
      "Enter the width of the rectangle: 10\n",
      "**********\n",
      "**********\n",
      "**********\n",
      "**********\n",
      "**********\n"
     ]
    }
   ],
   "source": [
    "# Solid rectangle\n",
    "def print_rectangle(width, height):\n",
    "    i = 0\n",
    "    while i < height:\n",
    "        j = 0\n",
    "        while j < width:\n",
    "            print(\"*\", end=\"\")\n",
    "            j += 1\n",
    "        print()\n",
    "        i += 1\n",
    "        \n",
    "height = int(input(\"Enter the height of the rectangle: \"))\n",
    "width = int(input(\"Enter the width of the rectangle: \"))\n",
    "print_rectangle(width, height)"
   ]
  },
  {
   "cell_type": "code",
   "execution_count": 5,
   "metadata": {},
   "outputs": [
    {
     "name": "stdout",
     "output_type": "stream",
     "text": [
      "Enter the height of the rectangle: 5\n",
      "Enter the width of the rectangle: 10\n",
      "* * * * * * * * * * \n",
      "*                 * \n",
      "*                 * \n",
      "*                 * \n",
      "* * * * * * * * * * \n"
     ]
    }
   ],
   "source": [
    "# Hollow rectangle\n",
    "def hollow_rectangle(width, height):\n",
    "    i = 0\n",
    "    for i in range(1, height+1):\n",
    "        j = 0\n",
    "        for j in range(1, width+1):\n",
    "            if i == 1 or i == height or j == 1 or j == width:\n",
    "                print(\"*\", end=\" \")\n",
    "            else:\n",
    "                print(\" \", end=\" \")\n",
    "        print()\n",
    "        \n",
    "height = int(input(\"Enter the height of the rectangle: \"))\n",
    "width = int(input(\"Enter the width of the rectangle: \"))\n",
    "hollow_rectangle(width, height)"
   ]
  },
  {
   "cell_type": "code",
   "execution_count": 2,
   "metadata": {},
   "outputs": [
    {
     "name": "stdout",
     "output_type": "stream",
     "text": [
      "ZAB"
     ]
    }
   ],
   "source": [
    "# Final Caesar Cipher\n",
    "def caesar_encrypt(message,key):\n",
    "    i = 1\n",
    "    while i < len(list(message))+1:\n",
    "        new_msg = (ord(list(message)[i-1]) + key)\n",
    "        if new_msg <= 90:\n",
    "            print(chr(new_msg),end=\"\")\n",
    "        else:\n",
    "            new_msg = (new_msg%90)+64\n",
    "            print(chr(new_msg),end=\"\")\n",
    "        i+=1\n",
    "\n",
    "caesar_encrypt(\"XYZ\", 2)"
   ]
  },
  {
   "cell_type": "code",
   "execution_count": 3,
   "metadata": {},
   "outputs": [
    {
     "name": "stdout",
     "output_type": "stream",
     "text": [
      "GIDMIVH"
     ]
    }
   ],
   "source": [
    "# Final Vigenere Cipher\n",
    "def vigenere_encrypt(message,key):    \n",
    "    import string\n",
    "    alphabet = list(string.ascii_uppercase) #List of uppercase alphabet letters\n",
    "    def al_num(newnum):\n",
    "        return alphabet[newnum] #To get the position of letter in the alphabet (0-25)\n",
    "    i = 1\n",
    "    if len(key) < len(message): #Added for the bonus\n",
    "        add = len(message) - len(key)\n",
    "        key += key[0:add]\n",
    "    while i < len(list(message))+1:\n",
    "            new_msg = (alphabet.index(list(message)[i-1]) + alphabet.index(list(key)[i-1]))%26\n",
    "            print(al_num(new_msg), end=\"\")\n",
    "            i+=1\n",
    "            \n",
    "vigenere_encrypt(\"MEAMORE\", \"UEDA\")"
   ]
  },
  {
   "cell_type": "code",
   "execution_count": 6,
   "metadata": {},
   "outputs": [
    {
     "data": {
      "text/plain": [
       "['C', 'E', 'D', 'B', 'I', 'H', 'F', 'G', 'A', 'J']"
      ]
     },
     "execution_count": 6,
     "metadata": {},
     "output_type": "execute_result"
    }
   ],
   "source": [
    "# Final Contact Tracing\n",
    "def trace(infected, movements):\n",
    "    inf_list = [infected]\n",
    "    s_inf_list = [infected]\n",
    "    for moves in movements:\n",
    "        for person in moves:\n",
    "            if person in s_inf_list:\n",
    "                if moves.index(person) == 0: # if infected is in left-most side of the string\n",
    "                    if moves[moves.index(person)+1] not in s_inf_list:\n",
    "                        inf_list.append(moves[moves.index(person)+1])\n",
    "                elif moves.index(person) == (len(moves)-1): # if infected is in right-most side of the string\n",
    "                    if moves[moves.index(person)-1] not in s_inf_list:\n",
    "                        inf_list.append(moves[moves.index(person)-1])\n",
    "                else: # if infected in the middle of 2 letters/persons\n",
    "                    if moves[moves.index(person)-1] not in s_inf_list:\n",
    "                        inf_list.append(moves[moves.index(person)-1])\n",
    "                    if moves[moves.index(person)+1] not in s_inf_list:\n",
    "                        inf_list.append(moves[moves.index(person)+1])\n",
    "        for person in inf_list:\n",
    "            if person not in s_inf_list:\n",
    "                s_inf_list.append(person)                \n",
    "    return(s_inf_list)\n",
    "trace(\"C\", ['JFHGIABECD','GAFJBCDIHE','FCGAEBIJDH'])"
   ]
  }
 ],
 "metadata": {
  "kernelspec": {
   "display_name": "Python 3",
   "language": "python",
   "name": "python3"
  },
  "language_info": {
   "codemirror_mode": {
    "name": "ipython",
    "version": 3
   },
   "file_extension": ".py",
   "mimetype": "text/x-python",
   "name": "python",
   "nbconvert_exporter": "python",
   "pygments_lexer": "ipython3",
   "version": "3.7.6"
  }
 },
 "nbformat": 4,
 "nbformat_minor": 4
}
