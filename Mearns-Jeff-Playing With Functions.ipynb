{
 "cells": [
  {
   "cell_type": "markdown",
   "metadata": {},
   "source": [
    "193314  \n",
    "Mearns  \n",
    "2 BS ME"
   ]
  },
  {
   "cell_type": "code",
   "execution_count": 1,
   "metadata": {},
   "outputs": [
    {
     "name": "stdout",
     "output_type": "stream",
     "text": [
      "Enter circumference: 5\n",
      "15.708\n"
     ]
    }
   ],
   "source": [
    "# Area of a Circle\n",
    "def area(circ):\n",
    "    return circ*3.1416\n",
    "\n",
    "circ = float(input(\"Enter circumference: \"))\n",
    "print(area(circ))"
   ]
  },
  {
   "cell_type": "code",
   "execution_count": 2,
   "metadata": {},
   "outputs": [
    {
     "name": "stdout",
     "output_type": "stream",
     "text": [
      "Enter a 5-letter word: Hello\n",
      "olleH\n"
     ]
    }
   ],
   "source": [
    "def reverseString(word):\n",
    "    return(word[::-1])\n",
    "word = input(\"Enter a 5-letter word: \")\n",
    "print(reverseString(word))"
   ]
  },
  {
   "cell_type": "code",
   "execution_count": 3,
   "metadata": {},
   "outputs": [
    {
     "name": "stdout",
     "output_type": "stream",
     "text": [
      "Enter a number: 5\n",
      "15\n"
     ]
    }
   ],
   "source": [
    "# Sum of first n natural numbers\n",
    "def backAddition(n):\n",
    "    add = 0\n",
    "    while (n>=0):\n",
    "        add = add+n\n",
    "        n = n-1\n",
    "    return add\n",
    "n = int(input(\"Enter a number: \"))\n",
    "print(backAddition(n))"
   ]
  },
  {
   "cell_type": "code",
   "execution_count": 4,
   "metadata": {},
   "outputs": [
    {
     "name": "stdout",
     "output_type": "stream",
     "text": [
      "25164150\n"
     ]
    }
   ],
   "source": [
    "num = range(1,101)\n",
    "sum_numbers = 0\n",
    "for x in num:\n",
    "    sum_numbers += x*x\n",
    "    sum_squares = sum(num)**2\n",
    "print(sum_squares - sum_numbers)"
   ]
  },
  {
   "cell_type": "code",
   "execution_count": 7,
   "metadata": {},
   "outputs": [
    {
     "name": "stdout",
     "output_type": "stream",
     "text": [
      "Enter amount in cents: 567\n",
      "105\n",
      "2\n",
      "0\n",
      "1\n",
      "1\n"
     ]
    }
   ],
   "source": [
    "def cent_counter(cents):\n",
    "    while x > 0:\n",
    "        hundred = x//100\n",
    "        twenty_five = (x-100*hundred)//25\n",
    "        ten = ((x-100*hundred)-25*twenty_five)//10\n",
    "        five = (((x-100*hundred)-25*twenty_five)-10*ten)//5\n",
    "        one = ((((x-100*hundred)-25*twenty_five)-10*ten)-5*five)//1\n",
    "        print(hundred)\n",
    "        print(twenty_five)\n",
    "        print(ten)\n",
    "        print(five)\n",
    "        print(one)\n",
    "        break\n",
    "    \n",
    "cents = int(input(\"Enter amount in cents: \"))\n",
    "cent_counter(cents)"
   ]
  },
  {
   "cell_type": "code",
   "execution_count": null,
   "metadata": {},
   "outputs": [],
   "source": []
  }
 ],
 "metadata": {
  "kernelspec": {
   "display_name": "Python 3",
   "language": "python",
   "name": "python3"
  },
  "language_info": {
   "codemirror_mode": {
    "name": "ipython",
    "version": 3
   },
   "file_extension": ".py",
   "mimetype": "text/x-python",
   "name": "python",
   "nbconvert_exporter": "python",
   "pygments_lexer": "ipython3",
   "version": "3.7.6"
  }
 },
 "nbformat": 4,
 "nbformat_minor": 4
}
