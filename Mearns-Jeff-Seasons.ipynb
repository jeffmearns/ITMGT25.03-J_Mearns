{
 "cells": [
  {
   "cell_type": "markdown",
   "metadata": {},
   "source": [
    "Mearns  \n",
    "193314  \n",
    "2 BS ME"
   ]
  },
  {
   "cell_type": "code",
   "execution_count": null,
   "metadata": {},
   "outputs": [],
   "source": [
    "month_inp = str.title(input(\"Enter month: \"))\n",
    "day_inp = int(input(\"Enter day: \"))\n",
    "month = [\"January\", \"February\", \"March\", \"April\", \"May\", \"June\", \"July\", \"August\", \"September\", \"October\", \"November\", \"December\"]\n",
    "\n",
    "# converted the months to numbers; January = 100, February = 200, etc.\n",
    "date_f = (month.index(month_inp)+1)*100 + day_inp\n",
    "if date_f > 101 and date_f < 320:\n",
    "    print(\"Winter\")\n",
    "elif date_f >= 320 and date_f < 621:\n",
    "    print(\"Spring\")\n",
    "elif date_f >= 621 and date_f < 922:\n",
    "    print(\"Summer\")\n",
    "elif date_f >= 922 and date_f < 1221:\n",
    "    print(\"Fall\")\n",
    "else:\n",
    "    print(\"Winter\")"
   ]
  }
 ],
 "metadata": {
  "kernelspec": {
   "display_name": "Python 3",
   "language": "python",
   "name": "python3"
  },
  "language_info": {
   "codemirror_mode": {
    "name": "ipython",
    "version": 3
   },
   "file_extension": ".py",
   "mimetype": "text/x-python",
   "name": "python",
   "nbconvert_exporter": "python",
   "pygments_lexer": "ipython3",
   "version": "3.7.6"
  }
 },
 "nbformat": 4,
 "nbformat_minor": 4
}
