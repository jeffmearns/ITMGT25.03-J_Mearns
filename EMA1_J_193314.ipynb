{
 "cells": [
  {
   "cell_type": "code",
   "execution_count": 4,
   "metadata": {},
   "outputs": [
    {
     "name": "stdout",
     "output_type": "stream",
     "text": [
      "Enter the number of rows: 5\n",
      "<table>\n",
      "<tr class=\"lightyellowrow\"><td>1</td><td>1</td></tr>\n",
      "<tr class=\"whiterow\"><td>2</td><td>4</td></tr>\n",
      "<tr class=\"lightyellowrow\"><td>3</td><td>9</td></tr>\n",
      "<tr class=\"whiterow\"><td>4</td><td>16</td></tr>\n",
      "<tr class=\"lightyellowrow\"><td>5</td><td>25</td></tr>\n",
      "</table>\n"
     ]
    }
   ],
   "source": [
    "rows = int(input('Enter the number of rows: '))\n",
    "print('<table>')\n",
    "for i in range(1,rows+1): # rows + 1 since the range started with 1\n",
    "    if i%2==1: # for odd-numbered rows\n",
    "        print('{}{}{}{}{}'.format('<tr class=\"lightyellowrow\"><td>', i,'</td><td>', i**2,'</td></tr>'))\n",
    "    elif i%2==0: # for even-numbered rows\n",
    "        print('{}{}{}{}{}'.format('<tr class=\"whiterow\"><td>', i,'</td><td>', i**2,'</td></tr>'))\n",
    "print('</table>')"
   ]
  },
  {
   "cell_type": "code",
   "execution_count": 3,
   "metadata": {},
   "outputs": [
    {
     "name": "stdout",
     "output_type": "stream",
     "text": [
      "Day: 29\n",
      "Month: 2\n",
      "Year: 1000\n",
      "Date is not valid.\n"
     ]
    }
   ],
   "source": [
    "day = int(input(\"Day: \"))\n",
    "month = int(input(\"Month: \"))\n",
    "year = int(input(\"Year: \"))\n",
    "month_list = [\"January\", \"February\", \"March\", \"April\", \"May\", \"June\", \"July\", \"August\", \"September\", \"October\", \"November\", \"December\"]\n",
    "# I put a list of months so that I won't have to type months in the multiple if elif statements\n",
    "if month > 12:\n",
    "    print(\"Date is not valid.\")\n",
    "elif month <= 12:\n",
    "    month = month_list[month-1] # month - 1 because month_list starts with 0\n",
    "    if month == \"September\" or month == \"April\" or month == \"June\" or month == \"November\":\n",
    "        if day <= 30:\n",
    "            if day%20==1: # mod 20 because 11-13 don't follow the st, nd, and rd suffix\n",
    "                print(\"{}{}{}{}{}{}\".format(\"It is the \", day, \"st day of the month of \", month, \" of the year \", year))\n",
    "            elif day%20==2:\n",
    "                print(\"{}{}{}{}{}{}\".format(\"It is the \", day, \"nd day of the month of \", month, \" of the year \", year))\n",
    "            elif day%20==3:\n",
    "                print(\"{}{}{}{}{}{}\".format(\"It is the \", day, \"rd day of the month of \", month, \" of the year \", year))\n",
    "            else:\n",
    "                print(\"{}{}{}{}{}{}\".format(\"It is the \", day, \"th day of the month of \", month, \" of the year \", year))\n",
    "        else:\n",
    "            print(\"Date is not valid.\")\n",
    "    elif month == \"January\" or month == \"March\" or month == \"May\" or month == \"July\" or month == \"August\" or month == \"October\" or month == \"December\":\n",
    "        if day <= 31:\n",
    "            if day%20==1 or day == 31:\n",
    "                print(\"{}{}{}{}{}{}\".format(\"It is the \", day, \"st day of the month of \", month, \" of the year \", year))\n",
    "            elif day%20==2:\n",
    "                print(\"{}{}{}{}{}{}\".format(\"It is the \", day, \"nd day of the month of \", month, \" of the year \", year))\n",
    "            elif day%20==3:\n",
    "                print(\"{}{}{}{}{}{}\".format(\"It is the \", day, \"rd day of the month of \", month, \" of the year \", year))\n",
    "            else:\n",
    "                print(\"{}{}{}{}{}{}\".format(\"It is the \", day, \"th day of the month of \", month, \" of the year \", year))\n",
    "        else: \n",
    "            print(\"Date is not valid.\")\n",
    "    elif month == \"February\":\n",
    "        if year%4!=0 or (year%100==0 and year%400!=0):\n",
    "            if day <= 28:\n",
    "                if day%20==1:\n",
    "                    print(\"{}{}{}{}{}{}\".format(\"It is the \", day, \"st day of the month of \", month, \" of the year \", year))\n",
    "                elif day%20==2:\n",
    "                    print(\"{}{}{}{}{}{}\".format(\"It is the \", day, \"nd day of the month of \", month, \" of the year \", year))\n",
    "                elif day%20==3:\n",
    "                    print(\"{}{}{}{}{}{}\".format(\"It is the \", day, \"rd day of the month of \", month, \" of the year \", year))\n",
    "                else:\n",
    "                    print(\"{}{}{}{}{}{}\".format(\"It is the \", day, \"th day of the month of \", month, \" of the year \", year))\n",
    "            else:\n",
    "                print(\"Date is not valid.\")\n",
    "        elif year%4==0:\n",
    "            if year%100==0 and year%400==0: # conditions for leap year\n",
    "                if day <= 29:\n",
    "                    if day%20==1:\n",
    "                        print(\"{}{}{}{}{}{}\".format(\"It is the \", day, \"st day of the month of \", month, \" of the year \", year))\n",
    "                    elif day%20==2: \n",
    "                        print(\"{}{}{}{}{}{}\".format(\"It is the \", day, \"nd day of the month of \", month, \" of the year \", year))\n",
    "                    elif day%20==3:\n",
    "                        print(\"{}{}{}{}{}{}\".format(\"It is the \", day, \"rd day of the month of \", month, \" of the year \", year))\n",
    "                    else:\n",
    "                        print(\"{}{}{}{}{}{}\".format(\"It is the \", day, \"th day of the month of \", month, \" of the year \", year))\n",
    "            else:\n",
    "                print(\"Date is not valid.\")\n",
    "    else:\n",
    "        print(\"Date is not valid.\")\n"
   ]
  },
  {
   "cell_type": "code",
   "execution_count": 2,
   "metadata": {},
   "outputs": [
    {
     "data": {
      "text/plain": [
       "True"
      ]
     },
     "execution_count": 2,
     "metadata": {},
     "output_type": "execute_result"
    }
   ],
   "source": [
    "def obedient(num):\n",
    "    if num%3==0 and (num//3)-1 > 0:\n",
    "            return True\n",
    "    else:\n",
    "        return False\n",
    "obedient(123)"
   ]
  },
  {
   "cell_type": "code",
   "execution_count": 1,
   "metadata": {},
   "outputs": [
    {
     "name": "stdout",
     "output_type": "stream",
     "text": [
      "1\t2\t3\t4\t5\t6\t7\t8\t9\t10\t11\t12\t\n",
      "2\t4\t6\t8\t10\t12\t14\t16\t18\t20\t22\t24\t\n",
      "3\t6\t9\t12\t15\t18\t21\t24\t27\t30\t33\t36\t\n",
      "4\t8\t12\t16\t20\t24\t28\t32\t36\t40\t44\t48\t\n",
      "5\t10\t15\t20\t25\t30\t35\t40\t45\t50\t55\t60\t\n",
      "6\t12\t18\t24\t30\t36\t42\t48\t54\t60\t66\t72\t\n",
      "7\t14\t21\t28\t35\t42\t49\t56\t63\t70\t77\t84\t\n",
      "8\t16\t24\t32\t40\t48\t56\t64\t72\t80\t88\t96\t\n",
      "9\t18\t27\t36\t45\t54\t63\t72\t81\t90\t99\t108\t\n",
      "10\t20\t30\t40\t50\t60\t70\t80\t90\t100\t110\t120\t\n",
      "11\t22\t33\t44\t55\t66\t77\t88\t99\t110\t121\t132\t\n",
      "12\t24\t36\t48\t60\t72\t84\t96\t108\t120\t132\t144\t\n"
     ]
    }
   ],
   "source": [
    "def multtable(x):\n",
    "    i = 1\n",
    "    while i <= x:\n",
    "        j = 1\n",
    "        while j <= x:\n",
    "            print(i*j, end=\"\\t\")\n",
    "            j += 1\n",
    "        print()\n",
    "        i += 1\n",
    "multtable(12)"
   ]
  },
  {
   "cell_type": "code",
   "execution_count": 1,
   "metadata": {},
   "outputs": [
    {
     "name": "stdout",
     "output_type": "stream",
     "text": [
      "Do you prefer (a) the mountains, (b) the city, or (c) the beach?a\n",
      "Do you prefer (a) yoghurt, (b) ice cream, or (c) gelato?c\n",
      "Do you prefer (a) reading, (b) singing, or (c) writing?a\n",
      "Do you prefer (a) sweet, (b) salty, or (c) spicy food?b\n",
      "Do you prefer (a) cats, (b) dogs, or (c) fish?a\n",
      "Your element is Fire.\n"
     ]
    }
   ],
   "source": [
    "while(True):\n",
    "    tally = []\n",
    "    answer = input(\"Do you prefer (a) the mountains, (b) the city, or (c) the beach?\")\n",
    "    if answer in [\"a\", \"b\", \"c\"]:\n",
    "        if answer == \"a\":\n",
    "            tally.append(\"fire\")\n",
    "        elif answer == \"b\":\n",
    "            tally.append(\"earth\")\n",
    "        elif answer == \"c\":\n",
    "            tally.append(\"water\")\n",
    "    else:\n",
    "        print(\"Sorry, you inputted a wrong letter. Please try again.\")\n",
    "        continue\n",
    "\n",
    "    answer = input(\"Do you prefer (a) yoghurt, (b) ice cream, or (c) gelato?\")\n",
    "    if answer in [\"a\", \"b\", \"c\"]:\n",
    "        if answer == \"a\":\n",
    "            tally.append(\"earth\")\n",
    "        elif answer == \"b\":\n",
    "            tally.append(\"water\")\n",
    "        elif answer == \"c\":\n",
    "            tally.append(\"fire\")\n",
    "    else:\n",
    "        print(\"Sorry, you inputted a wrong letter. Please try again.\")\n",
    "        continue\n",
    "    \n",
    "    answer = input(\"Do you prefer (a) reading, (b) singing, or (c) writing?\")\n",
    "    if answer in [\"a\", \"b\", \"c\"]:\n",
    "        if answer == \"a\":\n",
    "            tally.append(\"water\")\n",
    "        elif answer == \"b\":\n",
    "            tally.append(\"fire\")\n",
    "        elif answer == \"c\":\n",
    "            tally.append(\"earth\")\n",
    "    else:\n",
    "        print(\"Sorry, you inputted a wrong letter. Please try again.\")\n",
    "        continue\n",
    "    \n",
    "    answer = input(\"Do you prefer (a) sweet, (b) salty, or (c) spicy food?\")\n",
    "    if answer in [\"a\", \"b\", \"c\"]:\n",
    "        if answer == \"a\":\n",
    "            tally.append(\"earth\")\n",
    "        elif answer == \"b\":\n",
    "            tally.append(\"water\")\n",
    "        elif answer == \"c\":\n",
    "            tally.append(\"fire\")\n",
    "    else:\n",
    "        print(\"Sorry, you inputted a wrong letter. Please try again.\")\n",
    "        continue\n",
    "    \n",
    "    answer = input(\"Do you prefer (a) cats, (b) dogs, or (c) fish?\")\n",
    "    if answer in [\"a\", \"b\", \"c\"]:\n",
    "        if answer == \"a\":\n",
    "            tally.append(\"earth\")\n",
    "        elif answer == \"b\":\n",
    "            tally.append(\"fire\")\n",
    "        elif answer == \"c\":\n",
    "            tally.append(\"water\")\n",
    "    else:\n",
    "        print(\"Sorry, you inputted a wrong letter. Please try again.\")\n",
    "        continue\n",
    "    break\n",
    "\n",
    "fire_count = tally.count(\"fire\")\n",
    "water_count = tally.count(\"water\")\n",
    "earth_count = tally.count(\"earth\")\n",
    "\n",
    "if (fire_count > water_count and fire_count > earth_count) or (fire_count == water_count and fire_count > earth_count):\n",
    "    print(\"Your element is Fire.\")\n",
    "elif (water_count > fire_count and water_count > earth_count) or (water_count == earth_count and water_count > fire_count):\n",
    "    print(\"Your element is Water.\")\n",
    "elif (earth_count > fire_count and earth_count > water_count) or (fire_count == earth_count and fire_count > water_count):\n",
    "    print(\"Your element is Earth.\")"
   ]
  },
  {
   "cell_type": "code",
   "execution_count": null,
   "metadata": {},
   "outputs": [],
   "source": []
  }
 ],
 "metadata": {
  "kernelspec": {
   "display_name": "Python 3",
   "language": "python",
   "name": "python3"
  },
  "language_info": {
   "codemirror_mode": {
    "name": "ipython",
    "version": 3
   },
   "file_extension": ".py",
   "mimetype": "text/x-python",
   "name": "python",
   "nbconvert_exporter": "python",
   "pygments_lexer": "ipython3",
   "version": "3.7.6"
  }
 },
 "nbformat": 4,
 "nbformat_minor": 4
}
