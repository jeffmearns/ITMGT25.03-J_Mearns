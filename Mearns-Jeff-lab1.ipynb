{
 "cells": [
  {
   "cell_type": "markdown",
   "metadata": {},
   "source": [
    "193314  \n",
    "Mearns  \n",
    "2 BS ME  "
   ]
  },
  {
   "cell_type": "code",
   "execution_count": 1,
   "metadata": {},
   "outputs": [],
   "source": [
    "def conversion(us_dollars):\n",
    "    return us_dollars*50"
   ]
  },
  {
   "cell_type": "code",
   "execution_count": 2,
   "metadata": {},
   "outputs": [
    {
     "name": "stdout",
     "output_type": "stream",
     "text": [
      "Enter the amount in US Dollars: 25\n",
      "25.0  US dollar(s) =  1250.0  Philippine pesos.\n"
     ]
    }
   ],
   "source": [
    "us_dollars = float(input(\"Enter the amount in US Dollars: \"))\n",
    "print(us_dollars, \" US dollar(s) = \", conversion(us_dollars), \" Philippine pesos.\")"
   ]
  },
  {
   "cell_type": "code",
   "execution_count": 5,
   "metadata": {},
   "outputs": [
    {
     "name": "stdout",
     "output_type": "stream",
     "text": [
      "Input a positive integer: 128\n",
      "Input another positive integer: 8\n",
      "136\n",
      "120\n",
      "1024\n",
      "16\n",
      "0\n"
     ]
    }
   ],
   "source": [
    "a = int(input(\"Input a positive integer: \"))\n",
    "b = int(input(\"Input another positive integer: \"))\n",
    "\n",
    "print(a + b)\n",
    "print(a - b)\n",
    "print(a * b)\n",
    "print(a // b)\n",
    "print(a % b)"
   ]
  },
  {
   "cell_type": "code",
   "execution_count": 8,
   "metadata": {},
   "outputs": [],
   "source": [
    "def compute_cm_to_m(cm):\n",
    "    return cm/100\n",
    "def compute_bmi(kg, cm):\n",
    "    return kg/compute_cm_to_m(cm)**2"
   ]
  },
  {
   "cell_type": "code",
   "execution_count": 11,
   "metadata": {},
   "outputs": [
    {
     "name": "stdout",
     "output_type": "stream",
     "text": [
      "Input weight in kg: 67\n",
      "Input height in cm: 178\n",
      "BMI: 21.146319909102385\n"
     ]
    }
   ],
   "source": [
    "kg = float(input(\"Input weight in kg: \"))\n",
    "cm = float(input(\"Input height in cm: \"))\n",
    "print(\"BMI:\", compute_bmi(kg, cm))"
   ]
  },
  {
   "cell_type": "code",
   "execution_count": null,
   "metadata": {},
   "outputs": [],
   "source": []
  }
 ],
 "metadata": {
  "kernelspec": {
   "display_name": "Python 3",
   "language": "python",
   "name": "python3"
  },
  "language_info": {
   "codemirror_mode": {
    "name": "ipython",
    "version": 3
   },
   "file_extension": ".py",
   "mimetype": "text/x-python",
   "name": "python",
   "nbconvert_exporter": "python",
   "pygments_lexer": "ipython3",
   "version": "3.7.6"
  }
 },
 "nbformat": 4,
 "nbformat_minor": 4
}
