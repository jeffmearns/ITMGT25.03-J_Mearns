{
 "cells": [
  {
   "cell_type": "markdown",
   "metadata": {},
   "source": [
    "193314  \n",
    "Mearns  \n",
    "2 BS ME  "
   ]
  },
  {
   "cell_type": "code",
   "execution_count": 2,
   "metadata": {},
   "outputs": [],
   "source": [
    "def conversion(us_dollars):\n",
    "    return us_dollars*50"
   ]
  },
  {
   "cell_type": "code",
   "execution_count": 3,
   "metadata": {},
   "outputs": [
    {
     "name": "stdout",
     "output_type": "stream",
     "text": [
      "Enter the amount in US Dollars: 50\n",
      "50.0  US dollar(s) =  2500.0  Philippine pesos.\n"
     ]
    }
   ],
   "source": [
    "us_dollars = float(input(\"Enter the amount in US Dollars: \"))\n",
    "print(us_dollars, \" US dollar(s) = \", conversion(us_dollars), \" Philippine pesos.\")"
   ]
  },
  {
   "cell_type": "code",
   "execution_count": 4,
   "metadata": {},
   "outputs": [
    {
     "name": "stdout",
     "output_type": "stream",
     "text": [
      "Input a positive integer: 105\n",
      "Input another positive integer: 65\n",
      "170\n",
      "40\n",
      "6825\n",
      "1\n",
      "40\n"
     ]
    }
   ],
   "source": [
    "a = int(input(\"Input a positive integer: \"))\n",
    "b = int(input(\"Input another positive integer: \"))\n",
    "\n",
    "print(a + b)\n",
    "print(a - b)\n",
    "print(a * b)\n",
    "print(a // b)\n",
    "print(a % b)"
   ]
  },
  {
   "cell_type": "code",
   "execution_count": 2,
   "metadata": {},
   "outputs": [
    {
     "name": "stdout",
     "output_type": "stream",
     "text": [
      "Enter kg: 75\n",
      "Enter m: 1.78\n",
      "BMI: 23.671253629592222\n"
     ]
    }
   ],
   "source": [
    "# use this conversion to convert cm to m if user prefers cm over m\n",
    "def convert_cm_to_m(cm):\n",
    "    m = cm/100\n",
    "    return m\n",
    "\n",
    "def compute_bmi(kg, m):\n",
    "    return kg/m**2\n",
    "\n",
    "kg = float(input(\"Enter kg: \"))\n",
    "m = float(input(\"Enter m: \"))\n",
    "print(\"BMI:\", compute_bmi(kg, m))"
   ]
  }
 ],
 "metadata": {
  "kernelspec": {
   "display_name": "Python 3",
   "language": "python",
   "name": "python3"
  },
  "language_info": {
   "codemirror_mode": {
    "name": "ipython",
    "version": 3
   },
   "file_extension": ".py",
   "mimetype": "text/x-python",
   "name": "python",
   "nbconvert_exporter": "python",
   "pygments_lexer": "ipython3",
   "version": "3.7.6"
  }
 },
 "nbformat": 4,
 "nbformat_minor": 4
}
